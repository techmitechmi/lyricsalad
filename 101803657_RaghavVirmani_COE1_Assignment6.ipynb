{
  "nbformat": 4,
  "nbformat_minor": 0,
  "metadata": {
    "kernelspec": {
      "display_name": "Python 3",
      "language": "python",
      "name": "python3"
    },
    "language_info": {
      "codemirror_mode": {
        "name": "ipython",
        "version": 3
      },
      "file_extension": ".py",
      "mimetype": "text/x-python",
      "name": "python",
      "nbconvert_exporter": "python",
      "pygments_lexer": "ipython3",
      "version": "3.7.6"
    },
    "colab": {
      "name": "Assignment 6.ipynb",
      "provenance": []
    }
  },
  "cells": [
    {
      "cell_type": "markdown",
      "metadata": {
        "id": "QIvmwO1ZIapD"
      },
      "source": [
        "## Raghav Virmani  101803657  COE1 - Assignment 6\n",
        "\n"
      ]
    },
    {
      "cell_type": "code",
      "metadata": {
        "id": "P4niBUUnIH_T"
      },
      "source": [
        "import pandas as pd\n",
        "import copy as copy\n",
        "import matplotlib.pyplot as plt\n",
        "import numpy as np\n",
        "import seaborn as sns\n",
        "from sklearn.model_selection import train_test_split\n",
        "from sklearn.preprocessing import StandardScaler"
      ],
      "execution_count": null,
      "outputs": []
    },
    {
      "cell_type": "markdown",
      "metadata": {
        "id": "kuuZ0x8DIH_m"
      },
      "source": [
        "### Question 1"
      ]
    },
    {
      "cell_type": "code",
      "metadata": {
        "id": "lp9weYK3IH_o",
        "outputId": "a756b4d4-17e6-4f93-ae3a-ca372797820b"
      },
      "source": [
        "from sklearn.datasets import load_iris\n",
        "data = load_iris()\n",
        "df = pd.DataFrame(data.data, columns = data.feature_names)\n",
        "df['target'] = data.target\n",
        "df"
      ],
      "execution_count": null,
      "outputs": [
        {
          "output_type": "execute_result",
          "data": {
            "text/html": [
              "<div>\n",
              "<style scoped>\n",
              "    .dataframe tbody tr th:only-of-type {\n",
              "        vertical-align: middle;\n",
              "    }\n",
              "\n",
              "    .dataframe tbody tr th {\n",
              "        vertical-align: top;\n",
              "    }\n",
              "\n",
              "    .dataframe thead th {\n",
              "        text-align: right;\n",
              "    }\n",
              "</style>\n",
              "<table border=\"1\" class=\"dataframe\">\n",
              "  <thead>\n",
              "    <tr style=\"text-align: right;\">\n",
              "      <th></th>\n",
              "      <th>sepal length (cm)</th>\n",
              "      <th>sepal width (cm)</th>\n",
              "      <th>petal length (cm)</th>\n",
              "      <th>petal width (cm)</th>\n",
              "      <th>target</th>\n",
              "    </tr>\n",
              "  </thead>\n",
              "  <tbody>\n",
              "    <tr>\n",
              "      <th>0</th>\n",
              "      <td>5.1</td>\n",
              "      <td>3.5</td>\n",
              "      <td>1.4</td>\n",
              "      <td>0.2</td>\n",
              "      <td>0</td>\n",
              "    </tr>\n",
              "    <tr>\n",
              "      <th>1</th>\n",
              "      <td>4.9</td>\n",
              "      <td>3.0</td>\n",
              "      <td>1.4</td>\n",
              "      <td>0.2</td>\n",
              "      <td>0</td>\n",
              "    </tr>\n",
              "    <tr>\n",
              "      <th>2</th>\n",
              "      <td>4.7</td>\n",
              "      <td>3.2</td>\n",
              "      <td>1.3</td>\n",
              "      <td>0.2</td>\n",
              "      <td>0</td>\n",
              "    </tr>\n",
              "    <tr>\n",
              "      <th>3</th>\n",
              "      <td>4.6</td>\n",
              "      <td>3.1</td>\n",
              "      <td>1.5</td>\n",
              "      <td>0.2</td>\n",
              "      <td>0</td>\n",
              "    </tr>\n",
              "    <tr>\n",
              "      <th>4</th>\n",
              "      <td>5.0</td>\n",
              "      <td>3.6</td>\n",
              "      <td>1.4</td>\n",
              "      <td>0.2</td>\n",
              "      <td>0</td>\n",
              "    </tr>\n",
              "    <tr>\n",
              "      <th>...</th>\n",
              "      <td>...</td>\n",
              "      <td>...</td>\n",
              "      <td>...</td>\n",
              "      <td>...</td>\n",
              "      <td>...</td>\n",
              "    </tr>\n",
              "    <tr>\n",
              "      <th>145</th>\n",
              "      <td>6.7</td>\n",
              "      <td>3.0</td>\n",
              "      <td>5.2</td>\n",
              "      <td>2.3</td>\n",
              "      <td>2</td>\n",
              "    </tr>\n",
              "    <tr>\n",
              "      <th>146</th>\n",
              "      <td>6.3</td>\n",
              "      <td>2.5</td>\n",
              "      <td>5.0</td>\n",
              "      <td>1.9</td>\n",
              "      <td>2</td>\n",
              "    </tr>\n",
              "    <tr>\n",
              "      <th>147</th>\n",
              "      <td>6.5</td>\n",
              "      <td>3.0</td>\n",
              "      <td>5.2</td>\n",
              "      <td>2.0</td>\n",
              "      <td>2</td>\n",
              "    </tr>\n",
              "    <tr>\n",
              "      <th>148</th>\n",
              "      <td>6.2</td>\n",
              "      <td>3.4</td>\n",
              "      <td>5.4</td>\n",
              "      <td>2.3</td>\n",
              "      <td>2</td>\n",
              "    </tr>\n",
              "    <tr>\n",
              "      <th>149</th>\n",
              "      <td>5.9</td>\n",
              "      <td>3.0</td>\n",
              "      <td>5.1</td>\n",
              "      <td>1.8</td>\n",
              "      <td>2</td>\n",
              "    </tr>\n",
              "  </tbody>\n",
              "</table>\n",
              "<p>150 rows × 5 columns</p>\n",
              "</div>"
            ],
            "text/plain": [
              "     sepal length (cm)  sepal width (cm)  petal length (cm)  petal width (cm)  \\\n",
              "0                  5.1               3.5                1.4               0.2   \n",
              "1                  4.9               3.0                1.4               0.2   \n",
              "2                  4.7               3.2                1.3               0.2   \n",
              "3                  4.6               3.1                1.5               0.2   \n",
              "4                  5.0               3.6                1.4               0.2   \n",
              "..                 ...               ...                ...               ...   \n",
              "145                6.7               3.0                5.2               2.3   \n",
              "146                6.3               2.5                5.0               1.9   \n",
              "147                6.5               3.0                5.2               2.0   \n",
              "148                6.2               3.4                5.4               2.3   \n",
              "149                5.9               3.0                5.1               1.8   \n",
              "\n",
              "     target  \n",
              "0         0  \n",
              "1         0  \n",
              "2         0  \n",
              "3         0  \n",
              "4         0  \n",
              "..      ...  \n",
              "145       2  \n",
              "146       2  \n",
              "147       2  \n",
              "148       2  \n",
              "149       2  \n",
              "\n",
              "[150 rows x 5 columns]"
            ]
          },
          "metadata": {
            "tags": []
          },
          "execution_count": 34
        }
      ]
    },
    {
      "cell_type": "code",
      "metadata": {
        "id": "-9TcYAvVIH_r",
        "outputId": "439c9381-6705-4a23-abf1-71ee680b790d"
      },
      "source": [
        "df['target'].unique()"
      ],
      "execution_count": null,
      "outputs": [
        {
          "output_type": "execute_result",
          "data": {
            "text/plain": [
              "array([0, 1, 2])"
            ]
          },
          "metadata": {
            "tags": []
          },
          "execution_count": 35
        }
      ]
    },
    {
      "cell_type": "code",
      "metadata": {
        "id": "oQjRI9SIIH_s",
        "outputId": "789c2971-01b3-49d6-af59-79e63e4b670f"
      },
      "source": [
        "# Since iris datasets have 3 different target values, we can have pairs like: [0,[1,2]], [1,[0,2]] and [2,[0,1]].\n",
        "# For every combined class, let's name that category as 3\n",
        "sc = StandardScaler()\n",
        "classes = [0,1,2]\n",
        "classifiers = []\n",
        "def getDF():\n",
        "    df_temp = copy.deepcopy(df)\n",
        "    df_temp['target'] = df_temp['target'].replace({c:10})\n",
        "    ind = classes.index(c)\n",
        "    for x in classes[0:ind] + classes[ind+1:]:\n",
        "        df_temp['target'] = df_temp['target'].replace({x:-10})\n",
        "    return df_temp\n",
        "\n",
        "def get_classifier(X_train, y_train):\n",
        "    alpha = 0.001\n",
        "    #print(y_train.shape)\n",
        "    m, k = X_train.shape\n",
        "    beta=np.zeros(k)\n",
        "    for i in range(1000):\n",
        "        cost_gradient = np.zeros(k)\n",
        "        z = X_train.dot(beta)\n",
        "        #print(z.shape)\n",
        "        predicted = 1/(1+np.exp(-z))\n",
        "        difference = predicted.values-y_train.values\n",
        "        #print(difference)\n",
        "        for j in range(k):\n",
        "            cost_gradient[j] = np.sum(difference.dot(X_train.iloc[:,j]))\n",
        "        for j in range(k):\n",
        "            beta[j]=beta[j]-(alpha/m)*cost_gradient[j]\n",
        "    return beta\n",
        "\n",
        "for c in classes:\n",
        "    temp_df = getDF()\n",
        "    #print(temp_df['target']])\n",
        "    X = temp_df.iloc[:,:4]\n",
        "    y = temp_df.iloc[:,4]\n",
        "    X_train, X_test, y_train, y_test = train_test_split(X,y,test_size = 0.3,random_state=42)\n",
        "    X_train = sc.fit_transform(X_train)\n",
        "    X_train = pd.DataFrame(X_train)\n",
        "    X_train.insert(0, 'col0', 1)\n",
        "    classifiers.append(get_classifier(X_train, y_train))\n",
        "print(classifiers)"
      ],
      "execution_count": null,
      "outputs": [
        {
          "output_type": "stream",
          "text": [
            "[array([ 0.        , -5.92276144,  5.02744865, -7.89651962, -7.53355543]), array([ 0.        ,  0.0491823 , -4.54654179,  1.20270653,  0.43336203]), array([ 0.        ,  5.73462457, -0.29369309,  6.50348605,  6.92593823])]\n"
          ],
          "name": "stdout"
        }
      ]
    },
    {
      "cell_type": "code",
      "metadata": {
        "id": "tJKoQda1IH_u",
        "outputId": "7af2f9d0-e5b6-45be-8b26-70ba621c2b7e"
      },
      "source": [
        "X_test = X_test.reset_index(drop = True)\n",
        "X_test = sc.fit_transform(X_test)\n",
        "X_test = pd.DataFrame(X_test)\n",
        "X_test.insert(0, 'col0', 1)\n",
        "X_test"
      ],
      "execution_count": null,
      "outputs": [
        {
          "output_type": "execute_result",
          "data": {
            "text/html": [
              "<div>\n",
              "<style scoped>\n",
              "    .dataframe tbody tr th:only-of-type {\n",
              "        vertical-align: middle;\n",
              "    }\n",
              "\n",
              "    .dataframe tbody tr th {\n",
              "        vertical-align: top;\n",
              "    }\n",
              "\n",
              "    .dataframe thead th {\n",
              "        text-align: right;\n",
              "    }\n",
              "</style>\n",
              "<table border=\"1\" class=\"dataframe\">\n",
              "  <thead>\n",
              "    <tr style=\"text-align: right;\">\n",
              "      <th></th>\n",
              "      <th>col0</th>\n",
              "      <th>0</th>\n",
              "      <th>1</th>\n",
              "      <th>2</th>\n",
              "      <th>3</th>\n",
              "    </tr>\n",
              "  </thead>\n",
              "  <tbody>\n",
              "    <tr>\n",
              "      <th>0</th>\n",
              "      <td>1</td>\n",
              "      <td>0.313246</td>\n",
              "      <td>-0.813354</td>\n",
              "      <td>0.655910</td>\n",
              "      <td>0.116976</td>\n",
              "    </tr>\n",
              "    <tr>\n",
              "      <th>1</th>\n",
              "      <td>1</td>\n",
              "      <td>-0.177052</td>\n",
              "      <td>1.391522</td>\n",
              "      <td>-0.977814</td>\n",
              "      <td>-1.011005</td>\n",
              "    </tr>\n",
              "    <tr>\n",
              "      <th>2</th>\n",
              "      <td>1</td>\n",
              "      <td>2.274436</td>\n",
              "      <td>-1.254329</td>\n",
              "      <td>1.853974</td>\n",
              "      <td>1.495619</td>\n",
              "    </tr>\n",
              "    <tr>\n",
              "      <th>3</th>\n",
              "      <td>1</td>\n",
              "      <td>0.190671</td>\n",
              "      <td>-0.592867</td>\n",
              "      <td>0.546995</td>\n",
              "      <td>0.492969</td>\n",
              "    </tr>\n",
              "    <tr>\n",
              "      <th>4</th>\n",
              "      <td>1</td>\n",
              "      <td>1.171267</td>\n",
              "      <td>-0.813354</td>\n",
              "      <td>0.710367</td>\n",
              "      <td>0.367638</td>\n",
              "    </tr>\n",
              "    <tr>\n",
              "      <th>5</th>\n",
              "      <td>1</td>\n",
              "      <td>-0.544775</td>\n",
              "      <td>0.509571</td>\n",
              "      <td>-1.086729</td>\n",
              "      <td>-0.885674</td>\n",
              "    </tr>\n",
              "    <tr>\n",
              "      <th>6</th>\n",
              "      <td>1</td>\n",
              "      <td>-0.299626</td>\n",
              "      <td>-0.592867</td>\n",
              "      <td>0.056878</td>\n",
              "      <td>0.242307</td>\n",
              "    </tr>\n",
              "    <tr>\n",
              "      <th>7</th>\n",
              "      <td>1</td>\n",
              "      <td>1.293841</td>\n",
              "      <td>-0.151891</td>\n",
              "      <td>0.873740</td>\n",
              "      <td>1.495619</td>\n",
              "    </tr>\n",
              "    <tr>\n",
              "      <th>8</th>\n",
              "      <td>1</td>\n",
              "      <td>0.435820</td>\n",
              "      <td>-2.136280</td>\n",
              "      <td>0.546995</td>\n",
              "      <td>0.492969</td>\n",
              "    </tr>\n",
              "    <tr>\n",
              "      <th>9</th>\n",
              "      <td>1</td>\n",
              "      <td>-0.054478</td>\n",
              "      <td>-1.033842</td>\n",
              "      <td>0.220250</td>\n",
              "      <td>0.116976</td>\n",
              "    </tr>\n",
              "    <tr>\n",
              "      <th>10</th>\n",
              "      <td>1</td>\n",
              "      <td>0.803543</td>\n",
              "      <td>0.068596</td>\n",
              "      <td>0.873740</td>\n",
              "      <td>1.119625</td>\n",
              "    </tr>\n",
              "    <tr>\n",
              "      <th>11</th>\n",
              "      <td>1</td>\n",
              "      <td>-1.280222</td>\n",
              "      <td>-0.372379</td>\n",
              "      <td>-1.141187</td>\n",
              "      <td>-1.261667</td>\n",
              "    </tr>\n",
              "    <tr>\n",
              "      <th>12</th>\n",
              "      <td>1</td>\n",
              "      <td>-0.422201</td>\n",
              "      <td>0.730059</td>\n",
              "      <td>-1.195644</td>\n",
              "      <td>-1.136336</td>\n",
              "    </tr>\n",
              "    <tr>\n",
              "      <th>13</th>\n",
              "      <td>1</td>\n",
              "      <td>-1.157647</td>\n",
              "      <td>-0.151891</td>\n",
              "      <td>-1.086729</td>\n",
              "      <td>-1.261667</td>\n",
              "    </tr>\n",
              "    <tr>\n",
              "      <th>14</th>\n",
              "      <td>1</td>\n",
              "      <td>-0.912498</td>\n",
              "      <td>1.391522</td>\n",
              "      <td>-1.086729</td>\n",
              "      <td>-1.011005</td>\n",
              "    </tr>\n",
              "    <tr>\n",
              "      <th>15</th>\n",
              "      <td>1</td>\n",
              "      <td>0.558395</td>\n",
              "      <td>0.289084</td>\n",
              "      <td>0.655910</td>\n",
              "      <td>0.618300</td>\n",
              "    </tr>\n",
              "    <tr>\n",
              "      <th>16</th>\n",
              "      <td>1</td>\n",
              "      <td>0.803543</td>\n",
              "      <td>-0.372379</td>\n",
              "      <td>1.254942</td>\n",
              "      <td>1.370287</td>\n",
              "    </tr>\n",
              "    <tr>\n",
              "      <th>17</th>\n",
              "      <td>1</td>\n",
              "      <td>-0.299626</td>\n",
              "      <td>-1.474817</td>\n",
              "      <td>0.220250</td>\n",
              "      <td>-0.008355</td>\n",
              "    </tr>\n",
              "    <tr>\n",
              "      <th>18</th>\n",
              "      <td>1</td>\n",
              "      <td>-0.177052</td>\n",
              "      <td>-0.813354</td>\n",
              "      <td>0.546995</td>\n",
              "      <td>0.242307</td>\n",
              "    </tr>\n",
              "    <tr>\n",
              "      <th>19</th>\n",
              "      <td>1</td>\n",
              "      <td>0.680969</td>\n",
              "      <td>-0.813354</td>\n",
              "      <td>1.146027</td>\n",
              "      <td>1.370287</td>\n",
              "    </tr>\n",
              "    <tr>\n",
              "      <th>20</th>\n",
              "      <td>1</td>\n",
              "      <td>-1.402796</td>\n",
              "      <td>0.068596</td>\n",
              "      <td>-1.032272</td>\n",
              "      <td>-1.136336</td>\n",
              "    </tr>\n",
              "    <tr>\n",
              "      <th>21</th>\n",
              "      <td>1</td>\n",
              "      <td>0.313246</td>\n",
              "      <td>-0.372379</td>\n",
              "      <td>0.764825</td>\n",
              "      <td>0.868963</td>\n",
              "    </tr>\n",
              "    <tr>\n",
              "      <th>22</th>\n",
              "      <td>1</td>\n",
              "      <td>-1.035073</td>\n",
              "      <td>0.509571</td>\n",
              "      <td>-1.032272</td>\n",
              "      <td>-0.885674</td>\n",
              "    </tr>\n",
              "    <tr>\n",
              "      <th>23</th>\n",
              "      <td>1</td>\n",
              "      <td>0.680969</td>\n",
              "      <td>-0.813354</td>\n",
              "      <td>1.146027</td>\n",
              "      <td>1.244956</td>\n",
              "    </tr>\n",
              "    <tr>\n",
              "      <th>24</th>\n",
              "      <td>1</td>\n",
              "      <td>2.519585</td>\n",
              "      <td>1.391522</td>\n",
              "      <td>1.581687</td>\n",
              "      <td>1.119625</td>\n",
              "    </tr>\n",
              "    <tr>\n",
              "      <th>25</th>\n",
              "      <td>1</td>\n",
              "      <td>1.048692</td>\n",
              "      <td>-0.372379</td>\n",
              "      <td>0.928197</td>\n",
              "      <td>1.495619</td>\n",
              "    </tr>\n",
              "    <tr>\n",
              "      <th>26</th>\n",
              "      <td>1</td>\n",
              "      <td>1.048692</td>\n",
              "      <td>-1.474817</td>\n",
              "      <td>1.254942</td>\n",
              "      <td>0.868963</td>\n",
              "    </tr>\n",
              "    <tr>\n",
              "      <th>27</th>\n",
              "      <td>1</td>\n",
              "      <td>1.171267</td>\n",
              "      <td>0.068596</td>\n",
              "      <td>1.309400</td>\n",
              "      <td>1.495619</td>\n",
              "    </tr>\n",
              "    <tr>\n",
              "      <th>28</th>\n",
              "      <td>1</td>\n",
              "      <td>-1.280222</td>\n",
              "      <td>-0.372379</td>\n",
              "      <td>-1.141187</td>\n",
              "      <td>-1.011005</td>\n",
              "    </tr>\n",
              "    <tr>\n",
              "      <th>29</th>\n",
              "      <td>1</td>\n",
              "      <td>-1.280222</td>\n",
              "      <td>-0.151891</td>\n",
              "      <td>-1.032272</td>\n",
              "      <td>-1.136336</td>\n",
              "    </tr>\n",
              "    <tr>\n",
              "      <th>30</th>\n",
              "      <td>1</td>\n",
              "      <td>-1.525370</td>\n",
              "      <td>0.950547</td>\n",
              "      <td>-1.359017</td>\n",
              "      <td>-1.136336</td>\n",
              "    </tr>\n",
              "    <tr>\n",
              "      <th>31</th>\n",
              "      <td>1</td>\n",
              "      <td>-0.177052</td>\n",
              "      <td>2.714447</td>\n",
              "      <td>-1.086729</td>\n",
              "      <td>-0.885674</td>\n",
              "    </tr>\n",
              "    <tr>\n",
              "      <th>32</th>\n",
              "      <td>1</td>\n",
              "      <td>1.048692</td>\n",
              "      <td>-0.151891</td>\n",
              "      <td>0.492538</td>\n",
              "      <td>0.367638</td>\n",
              "    </tr>\n",
              "    <tr>\n",
              "      <th>33</th>\n",
              "      <td>1</td>\n",
              "      <td>-1.280222</td>\n",
              "      <td>0.509571</td>\n",
              "      <td>-1.032272</td>\n",
              "      <td>-1.136336</td>\n",
              "    </tr>\n",
              "    <tr>\n",
              "      <th>34</th>\n",
              "      <td>1</td>\n",
              "      <td>-1.770519</td>\n",
              "      <td>0.068596</td>\n",
              "      <td>-1.195644</td>\n",
              "      <td>-1.136336</td>\n",
              "    </tr>\n",
              "    <tr>\n",
              "      <th>35</th>\n",
              "      <td>1</td>\n",
              "      <td>0.558395</td>\n",
              "      <td>-1.474817</td>\n",
              "      <td>0.819282</td>\n",
              "      <td>0.994294</td>\n",
              "    </tr>\n",
              "    <tr>\n",
              "      <th>36</th>\n",
              "      <td>1</td>\n",
              "      <td>0.680969</td>\n",
              "      <td>0.068596</td>\n",
              "      <td>0.546995</td>\n",
              "      <td>0.492969</td>\n",
              "    </tr>\n",
              "    <tr>\n",
              "      <th>37</th>\n",
              "      <td>1</td>\n",
              "      <td>-0.789924</td>\n",
              "      <td>0.730059</td>\n",
              "      <td>-1.086729</td>\n",
              "      <td>-1.136336</td>\n",
              "    </tr>\n",
              "    <tr>\n",
              "      <th>38</th>\n",
              "      <td>1</td>\n",
              "      <td>-1.035073</td>\n",
              "      <td>0.950547</td>\n",
              "      <td>-1.141187</td>\n",
              "      <td>-1.136336</td>\n",
              "    </tr>\n",
              "    <tr>\n",
              "      <th>39</th>\n",
              "      <td>1</td>\n",
              "      <td>-0.789924</td>\n",
              "      <td>2.052984</td>\n",
              "      <td>-1.086729</td>\n",
              "      <td>-1.261667</td>\n",
              "    </tr>\n",
              "    <tr>\n",
              "      <th>40</th>\n",
              "      <td>1</td>\n",
              "      <td>-0.054478</td>\n",
              "      <td>-1.033842</td>\n",
              "      <td>0.873740</td>\n",
              "      <td>0.994294</td>\n",
              "    </tr>\n",
              "    <tr>\n",
              "      <th>41</th>\n",
              "      <td>1</td>\n",
              "      <td>0.190671</td>\n",
              "      <td>0.509571</td>\n",
              "      <td>0.546995</td>\n",
              "      <td>0.618300</td>\n",
              "    </tr>\n",
              "    <tr>\n",
              "      <th>42</th>\n",
              "      <td>1</td>\n",
              "      <td>1.048692</td>\n",
              "      <td>-0.151891</td>\n",
              "      <td>0.655910</td>\n",
              "      <td>0.492969</td>\n",
              "    </tr>\n",
              "    <tr>\n",
              "      <th>43</th>\n",
              "      <td>1</td>\n",
              "      <td>-0.544775</td>\n",
              "      <td>1.612009</td>\n",
              "      <td>-1.195644</td>\n",
              "      <td>-0.885674</td>\n",
              "    </tr>\n",
              "    <tr>\n",
              "      <th>44</th>\n",
              "      <td>1</td>\n",
              "      <td>-0.544775</td>\n",
              "      <td>1.171034</td>\n",
              "      <td>-1.086729</td>\n",
              "      <td>-1.136336</td>\n",
              "    </tr>\n",
              "  </tbody>\n",
              "</table>\n",
              "</div>"
            ],
            "text/plain": [
              "    col0         0         1         2         3\n",
              "0      1  0.313246 -0.813354  0.655910  0.116976\n",
              "1      1 -0.177052  1.391522 -0.977814 -1.011005\n",
              "2      1  2.274436 -1.254329  1.853974  1.495619\n",
              "3      1  0.190671 -0.592867  0.546995  0.492969\n",
              "4      1  1.171267 -0.813354  0.710367  0.367638\n",
              "5      1 -0.544775  0.509571 -1.086729 -0.885674\n",
              "6      1 -0.299626 -0.592867  0.056878  0.242307\n",
              "7      1  1.293841 -0.151891  0.873740  1.495619\n",
              "8      1  0.435820 -2.136280  0.546995  0.492969\n",
              "9      1 -0.054478 -1.033842  0.220250  0.116976\n",
              "10     1  0.803543  0.068596  0.873740  1.119625\n",
              "11     1 -1.280222 -0.372379 -1.141187 -1.261667\n",
              "12     1 -0.422201  0.730059 -1.195644 -1.136336\n",
              "13     1 -1.157647 -0.151891 -1.086729 -1.261667\n",
              "14     1 -0.912498  1.391522 -1.086729 -1.011005\n",
              "15     1  0.558395  0.289084  0.655910  0.618300\n",
              "16     1  0.803543 -0.372379  1.254942  1.370287\n",
              "17     1 -0.299626 -1.474817  0.220250 -0.008355\n",
              "18     1 -0.177052 -0.813354  0.546995  0.242307\n",
              "19     1  0.680969 -0.813354  1.146027  1.370287\n",
              "20     1 -1.402796  0.068596 -1.032272 -1.136336\n",
              "21     1  0.313246 -0.372379  0.764825  0.868963\n",
              "22     1 -1.035073  0.509571 -1.032272 -0.885674\n",
              "23     1  0.680969 -0.813354  1.146027  1.244956\n",
              "24     1  2.519585  1.391522  1.581687  1.119625\n",
              "25     1  1.048692 -0.372379  0.928197  1.495619\n",
              "26     1  1.048692 -1.474817  1.254942  0.868963\n",
              "27     1  1.171267  0.068596  1.309400  1.495619\n",
              "28     1 -1.280222 -0.372379 -1.141187 -1.011005\n",
              "29     1 -1.280222 -0.151891 -1.032272 -1.136336\n",
              "30     1 -1.525370  0.950547 -1.359017 -1.136336\n",
              "31     1 -0.177052  2.714447 -1.086729 -0.885674\n",
              "32     1  1.048692 -0.151891  0.492538  0.367638\n",
              "33     1 -1.280222  0.509571 -1.032272 -1.136336\n",
              "34     1 -1.770519  0.068596 -1.195644 -1.136336\n",
              "35     1  0.558395 -1.474817  0.819282  0.994294\n",
              "36     1  0.680969  0.068596  0.546995  0.492969\n",
              "37     1 -0.789924  0.730059 -1.086729 -1.136336\n",
              "38     1 -1.035073  0.950547 -1.141187 -1.136336\n",
              "39     1 -0.789924  2.052984 -1.086729 -1.261667\n",
              "40     1 -0.054478 -1.033842  0.873740  0.994294\n",
              "41     1  0.190671  0.509571  0.546995  0.618300\n",
              "42     1  1.048692 -0.151891  0.655910  0.492969\n",
              "43     1 -0.544775  1.612009 -1.195644 -0.885674\n",
              "44     1 -0.544775  1.171034 -1.086729 -1.136336"
            ]
          },
          "metadata": {
            "tags": []
          },
          "execution_count": 37
        }
      ]
    },
    {
      "cell_type": "code",
      "metadata": {
        "id": "xZSpIwPaIH_w",
        "outputId": "5a384b1e-b901-4183-d692-305a6b7ee01b"
      },
      "source": [
        "y_pred = []\n",
        "for i in range(len(X_test)):\n",
        "    pred_class = 0\n",
        "    max_sig = 0\n",
        "    for j in range(len(classifiers)):\n",
        "        z = X_test.iloc[i].dot(classifiers[j])\n",
        "        sigmoid_value = 1 / (1 + np.exp(-z))\n",
        "        \n",
        "        print(j,\" \",sigmoid_value)\n",
        "        \n",
        "        if sigmoid_value > max_sig:\n",
        "            max_sig = sigmoid_value\n",
        "            pred_class = j\n",
        "    print(\"\\n\")\n",
        "    y_pred.append(pred_class)\n",
        "print(y_pred)"
      ],
      "execution_count": null,
      "outputs": [
        {
          "output_type": "stream",
          "text": [
            "0   6.113372515580762e-06\n",
            "1   0.9895734161282591\n",
            "2   0.9991846614946949\n",
            "\n",
            "\n",
            "0   0.9999999999299793\n",
            "1   0.00035272325882360626\n",
            "2   3.791383535699515e-07\n",
            "\n",
            "\n",
            "0   1.4439910383673827e-20\n",
            "1   0.9998322142082043\n",
            "2   0.9999999999999998\n",
            "\n",
            "\n",
            "0   5.325088794362247e-06\n",
            "1   0.9727845901282719\n",
            "2   0.9997359739405842\n",
            "\n",
            "\n",
            "0   3.735882807077771e-09\n",
            "1   0.9915845808578029\n",
            "2   0.9999992637932777\n",
            "\n",
            "\n",
            "0   0.9999999992729791\n",
            "1   0.01738833892956647\n",
            "2   6.995686184956791e-08\n",
            "\n",
            "\n",
            "0   0.029870424390281907\n",
            "1   0.945533865219005\n",
            "2   0.6233949532126796\n",
            "\n",
            "\n",
            "0   2.8220204435577885e-12\n",
            "1   0.9207960177531231\n",
            "2   0.9999999999380826\n",
            "\n",
            "\n",
            "0   5.319539853199409e-10\n",
            "1   0.9999752244550707\n",
            "2   0.9999588532652308\n",
            "\n",
            "\n",
            "0   0.000555335296101456\n",
            "1   0.9933950889049695\n",
            "2   0.9032426808787232\n",
            "\n",
            "\n",
            "0   2.6502969109210966e-09\n",
            "1   0.7796624901999778\n",
            "2   0.9999999851413388\n",
            "\n",
            "\n",
            "0   0.9999999999699023\n",
            "1   0.4282000807280635\n",
            "2   6.932991339831358e-11\n",
            "\n",
            "\n",
            "0   0.9999999999682461\n",
            "1   0.005114937628449635\n",
            "2   1.1491901790553943e-08\n",
            "\n",
            "\n",
            "0   0.9999999999684377\n",
            "1   0.22791361229629906\n",
            "2   1.8701753557067611e-10\n",
            "\n",
            "\n",
            "0   0.9999999999996199\n",
            "1   0.0002984416425378167\n",
            "2   2.751278233401379e-09\n",
            "\n",
            "\n",
            "0   8.366296905497556e-06\n",
            "1   0.4427390817187095\n",
            "2   0.9999914133501071\n",
            "\n",
            "\n",
            "0   2.153074070082629e-12\n",
            "1   0.9788702021646623\n",
            "2   0.9999999998072082\n",
            "\n",
            "\n",
            "0   0.0006642311673693493\n",
            "1   0.999044057451188\n",
            "2   0.5223411948683497\n",
            "\n",
            "\n",
            "0   0.00010253022590038276\n",
            "1   0.9884804395807575\n",
            "2   0.9885599383029035\n",
            "\n",
            "\n",
            "0   1.1456182846953473e-12\n",
            "1   0.9966771554517565\n",
            "2   0.9999999993053941\n",
            "\n",
            "\n",
            "0   0.9999999999903619\n",
            "1   0.10766349898737741\n",
            "2   1.4588369762687058e-10\n",
            "\n",
            "\n",
            "0   8.22723407511434e-08\n",
            "1   0.9527940353196753\n",
            "2   0.9999974972620643\n",
            "\n",
            "\n",
            "0   0.9999999999387439\n",
            "1   0.018109701696145387\n",
            "2   5.991666198936822e-09\n",
            "\n",
            "\n",
            "0   2.9450736169752848e-12\n",
            "1   0.9964923386647646\n",
            "2   0.9999999983452907\n",
            "\n",
            "\n",
            "0   2.9503637931919657e-13\n",
            "1   0.021558640232445393\n",
            "2   0.9999999999999882\n",
            "\n",
            "\n",
            "0   2.5880286169187425e-12\n",
            "1   0.9709457941075267\n",
            "2   0.9999999998338784\n",
            "\n",
            "\n",
            "0   8.622852813039289e-14\n",
            "1   0.9998236382636123\n",
            "2   0.9999999988988173\n",
            "\n",
            "\n",
            "0   5.665023996736482e-13\n",
            "1   0.8774712266184138\n",
            "2   0.9999999999921527\n",
            "\n",
            "\n",
            "0   0.9999999998010949\n",
            "1   0.45497950365961215\n",
            "2   3.9344779196220843e-10\n",
            "\n",
            "\n",
            "0   0.9999999999396478\n",
            "1   0.2485523344178249\n",
            "2   3.1434263328916754e-10\n",
            "\n",
            "\n",
            "0   0.9999999999999958\n",
            "1   0.0014661274044604302\n",
            "2   6.6584603632975456e-12\n",
            "\n",
            "\n",
            "0   0.9999999999999016\n",
            "1   7.982132178271623e-07\n",
            "2   3.0159235597928693e-07\n",
            "\n",
            "\n",
            "0   1.1993440952463573e-06\n",
            "1   0.8166564086284194\n",
            "2   0.9999925546634196\n",
            "\n",
            "\n",
            "0   0.99999999999783\n",
            "1   0.016083987695603916\n",
            "2   2.588416623406669e-10\n",
            "\n",
            "\n",
            "0   0.9999999999996996\n",
            "1   0.08871657348738755\n",
            "2   6.120017156214966e-12\n",
            "\n",
            "\n",
            "0   1.9090070313806517e-11\n",
            "1   0.9997110667546917\n",
            "2   0.9999998692445484\n",
            "\n",
            "\n",
            "0   8.117165036908512e-06\n",
            "1   0.6440818695263908\n",
            "2   0.9999807234968572\n",
            "\n",
            "\n",
            "0   0.9999999999914995\n",
            "1   0.0057228175162284825\n",
            "2   2.832656285710015e-09\n",
            "\n",
            "\n",
            "0   0.9999999999995728\n",
            "1   0.0019507977842666377\n",
            "2   4.567858575355512e-10\n",
            "\n",
            "\n",
            "0   0.9999999999999958\n",
            "1   1.3315015149898407e-05\n",
            "2   8.062550363324538e-10\n",
            "\n",
            "\n",
            "0   4.298488219653024e-09\n",
            "1   0.9979327521124138\n",
            "2   0.9999964903756522\n",
            "\n",
            "\n",
            "0   0.0005285656095502863\n",
            "1   0.2007542094229321\n",
            "2   0.9998467759719626\n",
            "\n",
            "\n",
            "0   1.2841514165272458e-07\n",
            "1   0.8512779244918244\n",
            "2   0.9999989198844554\n",
            "\n",
            "\n",
            "0   0.999999999998795\n",
            "1   0.0001033085409744555\n",
            "2   2.492256421436602e-08\n",
            "\n",
            "\n",
            "0   0.9999999999960445\n",
            "1   0.0007839274078197208\n",
            "2   1.0150671751389312e-08\n",
            "\n",
            "\n",
            "[2, 0, 2, 2, 2, 0, 1, 2, 1, 1, 2, 0, 0, 0, 0, 2, 2, 1, 2, 2, 0, 2, 0, 2, 2, 2, 2, 2, 0, 0, 0, 0, 2, 0, 0, 2, 2, 0, 0, 0, 2, 2, 2, 0, 0]\n"
          ],
          "name": "stdout"
        }
      ]
    },
    {
      "cell_type": "markdown",
      "metadata": {
        "id": "iS4e7dGkIH_x"
      },
      "source": [
        "### Question 2"
      ]
    },
    {
      "cell_type": "code",
      "metadata": {
        "id": "59Je99azIH_y",
        "outputId": "a8c09653-eee7-4549-b634-c081b4e2dd1d"
      },
      "source": [
        "exam_df = pd.read_csv(\".\\\\exam.txt\", names = ['score1','score2','target'])\n",
        "exam_df.head()"
      ],
      "execution_count": null,
      "outputs": [
        {
          "output_type": "execute_result",
          "data": {
            "text/html": [
              "<div>\n",
              "<style scoped>\n",
              "    .dataframe tbody tr th:only-of-type {\n",
              "        vertical-align: middle;\n",
              "    }\n",
              "\n",
              "    .dataframe tbody tr th {\n",
              "        vertical-align: top;\n",
              "    }\n",
              "\n",
              "    .dataframe thead th {\n",
              "        text-align: right;\n",
              "    }\n",
              "</style>\n",
              "<table border=\"1\" class=\"dataframe\">\n",
              "  <thead>\n",
              "    <tr style=\"text-align: right;\">\n",
              "      <th></th>\n",
              "      <th>score1</th>\n",
              "      <th>score2</th>\n",
              "      <th>target</th>\n",
              "    </tr>\n",
              "  </thead>\n",
              "  <tbody>\n",
              "    <tr>\n",
              "      <th>0</th>\n",
              "      <td>0.051267</td>\n",
              "      <td>0.69956</td>\n",
              "      <td>1</td>\n",
              "    </tr>\n",
              "    <tr>\n",
              "      <th>1</th>\n",
              "      <td>-0.092742</td>\n",
              "      <td>0.68494</td>\n",
              "      <td>1</td>\n",
              "    </tr>\n",
              "    <tr>\n",
              "      <th>2</th>\n",
              "      <td>-0.213710</td>\n",
              "      <td>0.69225</td>\n",
              "      <td>1</td>\n",
              "    </tr>\n",
              "    <tr>\n",
              "      <th>3</th>\n",
              "      <td>-0.375000</td>\n",
              "      <td>0.50219</td>\n",
              "      <td>1</td>\n",
              "    </tr>\n",
              "    <tr>\n",
              "      <th>4</th>\n",
              "      <td>-0.513250</td>\n",
              "      <td>0.46564</td>\n",
              "      <td>1</td>\n",
              "    </tr>\n",
              "  </tbody>\n",
              "</table>\n",
              "</div>"
            ],
            "text/plain": [
              "     score1   score2  target\n",
              "0  0.051267  0.69956       1\n",
              "1 -0.092742  0.68494       1\n",
              "2 -0.213710  0.69225       1\n",
              "3 -0.375000  0.50219       1\n",
              "4 -0.513250  0.46564       1"
            ]
          },
          "metadata": {
            "tags": []
          },
          "execution_count": 3
        }
      ]
    },
    {
      "cell_type": "code",
      "metadata": {
        "id": "MUEGudnZIH_z",
        "outputId": "815fdbbe-1d5f-4714-c5c5-d4093a091849"
      },
      "source": [
        "plt.scatter(x = exam_df['score1'], y = exam_df['score2'], c = exam_df['target'])"
      ],
      "execution_count": null,
      "outputs": [
        {
          "output_type": "execute_result",
          "data": {
            "text/plain": [
              "<matplotlib.collections.PathCollection at 0x1ec1c866348>"
            ]
          },
          "metadata": {
            "tags": []
          },
          "execution_count": 4
        },
        {
          "output_type": "display_data",
          "data": {
            "image/png": "[encoded data removed]",
            "text/plain": [
              "<Figure size 432x288 with 1 Axes>"
            ]
          },
          "metadata": {
            "tags": [],
            "needs_background": "light"
          }
        }
      ]
    },
    {
      "cell_type": "code",
      "metadata": {
        "id": "uFOjzLlKIH_1",
        "outputId": "03aef224-d355-47d5-dba8-f501369322fd"
      },
      "source": [
        "exam_df.describe()"
      ],
      "execution_count": null,
      "outputs": [
        {
          "output_type": "execute_result",
          "data": {
            "text/html": [
              "<div>\n",
              "<style scoped>\n",
              "    .dataframe tbody tr th:only-of-type {\n",
              "        vertical-align: middle;\n",
              "    }\n",
              "\n",
              "    .dataframe tbody tr th {\n",
              "        vertical-align: top;\n",
              "    }\n",
              "\n",
              "    .dataframe thead th {\n",
              "        text-align: right;\n",
              "    }\n",
              "</style>\n",
              "<table border=\"1\" class=\"dataframe\">\n",
              "  <thead>\n",
              "    <tr style=\"text-align: right;\">\n",
              "      <th></th>\n",
              "      <th>score1</th>\n",
              "      <th>score2</th>\n",
              "      <th>target</th>\n",
              "    </tr>\n",
              "  </thead>\n",
              "  <tbody>\n",
              "    <tr>\n",
              "      <th>count</th>\n",
              "      <td>118.000000</td>\n",
              "      <td>118.000000</td>\n",
              "      <td>118.000000</td>\n",
              "    </tr>\n",
              "    <tr>\n",
              "      <th>mean</th>\n",
              "      <td>0.054779</td>\n",
              "      <td>0.183102</td>\n",
              "      <td>0.491525</td>\n",
              "    </tr>\n",
              "    <tr>\n",
              "      <th>std</th>\n",
              "      <td>0.496654</td>\n",
              "      <td>0.519743</td>\n",
              "      <td>0.502060</td>\n",
              "    </tr>\n",
              "    <tr>\n",
              "      <th>min</th>\n",
              "      <td>-0.830070</td>\n",
              "      <td>-0.769740</td>\n",
              "      <td>0.000000</td>\n",
              "    </tr>\n",
              "    <tr>\n",
              "      <th>25%</th>\n",
              "      <td>-0.372120</td>\n",
              "      <td>-0.254385</td>\n",
              "      <td>0.000000</td>\n",
              "    </tr>\n",
              "    <tr>\n",
              "      <th>50%</th>\n",
              "      <td>-0.006336</td>\n",
              "      <td>0.213455</td>\n",
              "      <td>0.000000</td>\n",
              "    </tr>\n",
              "    <tr>\n",
              "      <th>75%</th>\n",
              "      <td>0.478970</td>\n",
              "      <td>0.646562</td>\n",
              "      <td>1.000000</td>\n",
              "    </tr>\n",
              "    <tr>\n",
              "      <th>max</th>\n",
              "      <td>1.070900</td>\n",
              "      <td>1.108900</td>\n",
              "      <td>1.000000</td>\n",
              "    </tr>\n",
              "  </tbody>\n",
              "</table>\n",
              "</div>"
            ],
            "text/plain": [
              "           score1      score2      target\n",
              "count  118.000000  118.000000  118.000000\n",
              "mean     0.054779    0.183102    0.491525\n",
              "std      0.496654    0.519743    0.502060\n",
              "min     -0.830070   -0.769740    0.000000\n",
              "25%     -0.372120   -0.254385    0.000000\n",
              "50%     -0.006336    0.213455    0.000000\n",
              "75%      0.478970    0.646562    1.000000\n",
              "max      1.070900    1.108900    1.000000"
            ]
          },
          "metadata": {
            "tags": []
          },
          "execution_count": 5
        }
      ]
    },
    {
      "cell_type": "code",
      "metadata": {
        "id": "ZDOI8cP9IH_2",
        "outputId": "1abf6b1a-3d26-4367-e27e-12cb464b8efd"
      },
      "source": [
        "exam_df.info()"
      ],
      "execution_count": null,
      "outputs": [
        {
          "output_type": "stream",
          "text": [
            "<class 'pandas.core.frame.DataFrame'>\n",
            "RangeIndex: 118 entries, 0 to 117\n",
            "Data columns (total 3 columns):\n",
            " #   Column  Non-Null Count  Dtype  \n",
            "---  ------  --------------  -----  \n",
            " 0   score1  118 non-null    float64\n",
            " 1   score2  118 non-null    float64\n",
            " 2   target  118 non-null    int64  \n",
            "dtypes: float64(2), int64(1)\n",
            "memory usage: 2.9 KB\n"
          ],
          "name": "stdout"
        }
      ]
    },
    {
      "cell_type": "code",
      "metadata": {
        "id": "rvUrAYxaIH_3",
        "outputId": "59206091-97fb-4435-b3bc-0e338ae0b5d6"
      },
      "source": [
        "sns.heatmap(exam_df.iloc[:,:].corr(),annot = True)"
      ],
      "execution_count": null,
      "outputs": [
        {
          "output_type": "execute_result",
          "data": {
            "text/plain": [
              "<matplotlib.axes._subplots.AxesSubplot at 0x1ec1cffa288>"
            ]
          },
          "metadata": {
            "tags": []
          },
          "execution_count": 9
        },
        {
          "output_type": "display_data",
          "data": {
            "image/png": "[encoded data removed]",
            "text/plain": [
              "<Figure size 432x288 with 2 Axes>"
            ]
          },
          "metadata": {
            "tags": [],
            "needs_background": "light"
          }
        }
      ]
    },
    {
      "cell_type": "code",
      "metadata": {
        "id": "Gr3QyrIuIH_4"
      },
      "source": [
        "# Fit a logistic regression upto degree 6\n",
        "\n",
        "#(i) No regulariztion, alpha = 10, no_of_iterations = 1000\n",
        "\n",
        "#(ii) regularization, alpha = 10, no_of_iterations = 1000\n",
        "\n",
        "number_of_iterations = 1000"
      ],
      "execution_count": null,
      "outputs": []
    },
    {
      "cell_type": "code",
      "metadata": {
        "id": "8Au6US64IH_5"
      },
      "source": [
        "X = exam_df.iloc[:,:2]\n",
        "y = exam_df.iloc[:,2]\n",
        "X.insert(0, 'col0', 1)\n",
        "X_train, X_test, y_train, y_test = train_test_split(X,y,test_size = 0.30)"
      ],
      "execution_count": null,
      "outputs": []
    },
    {
      "cell_type": "code",
      "metadata": {
        "id": "l7MlDhcDIH_6",
        "outputId": "cf2d1385-0e56-46fa-8d5e-e236eee2027d"
      },
      "source": [
        "alpha = 0.01\n",
        "m, k = X_train.shape\n",
        "beta=np.zeros(k)\n",
        "for i in range(number_of_iterations):\n",
        "    cost_gradient = np.zeros(k)\n",
        "    z = X_train.dot(beta)\n",
        "    predicted = 1/(1+np.exp(-z))\n",
        "    difference = predicted-y_train\n",
        "    for j in range(k):\n",
        "        cost_gradient[j] = np.sum(difference.dot(X_train.iloc[:,j]))\n",
        "    for j in range(k):\n",
        "        beta[j]=beta[j]-(alpha/m)*cost_gradient[j]\n",
        "print(beta)"
      ],
      "execution_count": null,
      "outputs": [
        {
          "output_type": "stream",
          "text": [
            "[-0.03590011 -0.12458216 -0.02340759]\n"
          ],
          "name": "stdout"
        }
      ]
    },
    {
      "cell_type": "code",
      "metadata": {
        "id": "sjkyKEzRIH_7",
        "outputId": "6c318f36-665f-4616-ecd4-ceab28c8fe34"
      },
      "source": [
        "y_predict = 1/(1 + np.exp(-(X_test.dot(beta))))\n",
        "y_predict = list(y_predict)\n",
        "y_label = np.zeros(len(y_predict))\n",
        "for i in range(len(y_predict)):\n",
        "    if(y_predict[i] >= 0.5):\n",
        "        y_label[i] = 1\n",
        "print(y_label)"
      ],
      "execution_count": null,
      "outputs": [
        {
          "output_type": "stream",
          "text": [
            "[1. 0. 0. 0. 0. 1. 0. 1. 0. 0. 0. 0. 0. 0. 0. 0. 0. 1. 0. 1. 0. 1. 0. 0.\n",
            " 0. 0. 0. 1. 0. 0. 0. 1. 1. 0. 0. 1.]\n"
          ],
          "name": "stdout"
        }
      ]
    },
    {
      "cell_type": "code",
      "metadata": {
        "id": "h8w52dbqIH_8",
        "outputId": "5091419e-de2a-4f55-96dd-72395eeac943"
      },
      "source": [
        "TP=0\n",
        "TN=0\n",
        "FP=0\n",
        "FN=0\n",
        "y_test = np.array(y_test).reshape(-1,1)\n",
        "for i in range(len(y_label)):\n",
        "    if(y_test[i]==1 and y_label[i]==1):\n",
        "        TP = TP + 1\n",
        "    if(y_test[i]==1 and y_label[i]==0):\n",
        "        FN = FN + 1\n",
        "    if(y_test[i]==0 and y_label[i]==1):\n",
        "        FP = FP + 1\n",
        "    if(y_test[i]==0 and y_label[i]==0):\n",
        "        TN = TN + 1\n",
        "print(TP,TN,FP,FN)\n",
        "accuracy=(TP+TN)/(TP+TN+FP+FN)\n",
        "\n",
        "#For positive class:\n",
        "precision_pos=TP/(TP + FP)\n",
        "recall_pos=TP/(TP + FN)\n",
        "f1_score_pos=2*precision_pos*recall_pos/(precision_pos+recall_pos)\n",
        "print(precision_pos,recall_pos,f1_score_pos)\n",
        "\n",
        "#For negative class\n",
        "precision_neg=TN/(TN+FN)\n",
        "recall_neg=TN/(TN+FP)\n",
        "f1_score_neg=2*precision_neg*recall_neg/(precision_neg+recall_neg)\n",
        "print(precision_neg,recall_neg,f1_score_neg)"
      ],
      "execution_count": null,
      "outputs": [
        {
          "output_type": "stream",
          "text": [
            "4 12 6 14\n",
            "0.4 0.2222222222222222 0.2857142857142857\n",
            "0.46153846153846156 0.6666666666666666 0.5454545454545455\n"
          ],
          "name": "stdout"
        }
      ]
    },
    {
      "cell_type": "code",
      "metadata": {
        "id": "PQBtbjVhIH_-",
        "outputId": "5e347a52-0918-4def-b0cb-eedac9388acb"
      },
      "source": [
        "macro_precision = (precision_pos+precision_neg)/2\n",
        "macro_recall = (recall_pos+recall_neg)/2\n",
        "macro_f1_score=(f1_score_pos+f1_score_neg)/2\n",
        "print(macro_precision,macro_recall,macro_f1_score)"
      ],
      "execution_count": null,
      "outputs": [
        {
          "output_type": "stream",
          "text": [
            "0.4307692307692308 0.4444444444444444 0.4155844155844156\n"
          ],
          "name": "stdout"
        }
      ]
    },
    {
      "cell_type": "code",
      "metadata": {
        "id": "k0LuZP46IIAA",
        "outputId": "a8fa8c43-832d-4401-93d9-7f4950ee0e76"
      },
      "source": [
        "l1=len(y_test[y_test==0])\n",
        "l2=len(y_test[y_test==1])\n",
        "weighted_precision=(l1*precision_neg+l2*precision_pos)/(l1+l2)\n",
        "weighted_recall=(l1*recall_neg+l2*recall_pos)/(l1+l2)\n",
        "weighted_f1_score=(l1*f1_score_neg+l2*f1_score_pos)/(l1+l2)\n",
        "print(weighted_precision,weighted_recall,weighted_f1_score)"
      ],
      "execution_count": null,
      "outputs": [
        {
          "output_type": "stream",
          "text": [
            "0.4307692307692308 0.4444444444444444 0.4155844155844156\n"
          ],
          "name": "stdout"
        }
      ]
    },
    {
      "cell_type": "markdown",
      "metadata": {
        "id": "-NpCPcelIIAB"
      },
      "source": [
        "### (ii) part"
      ]
    },
    {
      "cell_type": "code",
      "metadata": {
        "id": "61GVgsWwIIAC",
        "outputId": "d9e3f97e-7000-4a06-9c28-b54f6286eff4"
      },
      "source": [
        "alpha = 0.01 #alpha = 10 classifies all classes as 1.0 and division by zero error encountered\n",
        "lamba = 0.2\n",
        "m, k = X_train.shape\n",
        "beta=np.zeros(k)\n",
        "for i in range(number_of_iterations):\n",
        "    cost_gradient = np.zeros(k)\n",
        "    z = X_train.dot(beta)\n",
        "    predicted = 1/(1+np.exp(-z))\n",
        "    difference = predicted-y_train\n",
        "    for j in range(k):\n",
        "        cost_gradient[j] = np.sum(difference.dot(X_train.iloc[:,j]))\n",
        "    for j in range(k):\n",
        "        beta[j] = (1-(alpha*lamba/m))*beta[j]-(alpha/m)*cost_gradient[j]\n",
        "print(beta)"
      ],
      "execution_count": null,
      "outputs": [
        {
          "output_type": "stream",
          "text": [
            "[-0.03568502 -0.12324469 -0.0231785 ]\n"
          ],
          "name": "stdout"
        }
      ]
    },
    {
      "cell_type": "code",
      "metadata": {
        "id": "tJX4M_9lIIAD",
        "outputId": "3ad55855-52f4-4ca9-dcb0-bc081436e325"
      },
      "source": [
        "y_predict = 1/(1 + np.exp(-(X_test.dot(beta))))\n",
        "y_predict = list(y_predict)\n",
        "y_label = np.zeros(len(y_predict))\n",
        "for i in range(len(y_predict)):\n",
        "    if(y_predict[i] >= 0.5):\n",
        "        y_label[i] = 1\n",
        "print(y_label)"
      ],
      "execution_count": null,
      "outputs": [
        {
          "output_type": "stream",
          "text": [
            "[1. 0. 0. 0. 0. 1. 0. 1. 0. 0. 0. 0. 0. 0. 0. 0. 0. 1. 0. 1. 0. 1. 0. 0.\n",
            " 0. 0. 0. 1. 0. 0. 0. 1. 1. 0. 0. 1.]\n"
          ],
          "name": "stdout"
        }
      ]
    },
    {
      "cell_type": "code",
      "metadata": {
        "id": "eeCMiVqMIIAE",
        "outputId": "e31eabd4-34cf-4f84-ac30-b1e56d9eebaf"
      },
      "source": [
        "TP=0\n",
        "TN=0\n",
        "FP=0\n",
        "FN=0\n",
        "y_test = np.array(y_test).reshape(-1,1)\n",
        "for i in range(len(y_label)):\n",
        "    if(y_test[i]==1 and y_label[i]==1):\n",
        "        TP = TP + 1\n",
        "    if(y_test[i]==1 and y_label[i]==0):\n",
        "        FN = FN + 1\n",
        "    if(y_test[i]==0 and y_label[i]==1):\n",
        "        FP = FP + 1\n",
        "    if(y_test[i]==0 and y_label[i]==0):\n",
        "        TN = TN + 1\n",
        "print(TP,TN,FP,FN)\n",
        "accuracy=(TP+TN)/(TP+TN+FP+FN)\n",
        "\n",
        "#For positive class:\n",
        "precision_pos=TP/(TP + FP)\n",
        "recall_pos=TP/(TP + FN)\n",
        "f1_score_pos=2*precision_pos*recall_pos/(precision_pos+recall_pos)\n",
        "print(precision_pos,recall_pos,f1_score_pos)\n",
        "\n",
        "#For negative class\n",
        "precision_neg=TN/(TN+FN)\n",
        "recall_neg=TN/(TN+FP)\n",
        "f1_score_neg=2*precision_neg*recall_neg/(precision_neg+recall_neg)\n",
        "print(precision_neg,recall_neg,f1_score_neg)"
      ],
      "execution_count": null,
      "outputs": [
        {
          "output_type": "stream",
          "text": [
            "4 12 6 14\n",
            "0.4 0.2222222222222222 0.2857142857142857\n",
            "0.46153846153846156 0.6666666666666666 0.5454545454545455\n"
          ],
          "name": "stdout"
        }
      ]
    },
    {
      "cell_type": "code",
      "metadata": {
        "id": "sA-ISTjyIIAF",
        "outputId": "8182f6ba-f07c-466d-d226-aed2c85a5552"
      },
      "source": [
        "macro_precision = (precision_pos+precision_neg)/2\n",
        "macro_recall = (recall_pos+recall_neg)/2\n",
        "macro_f1_score=(f1_score_pos+f1_score_neg)/2\n",
        "print(macro_precision,macro_recall,macro_f1_score)"
      ],
      "execution_count": null,
      "outputs": [
        {
          "output_type": "stream",
          "text": [
            "0.4307692307692308 0.4444444444444444 0.4155844155844156\n"
          ],
          "name": "stdout"
        }
      ]
    },
    {
      "cell_type": "code",
      "metadata": {
        "id": "Pu95pRnrIIAG",
        "outputId": "ed728b1a-2f78-4ccf-b3e5-5013fdf04a99"
      },
      "source": [
        "    l1=len(y_test[y_test==0])\n",
        "    l2=len(y_test[y_test==1])\n",
        "    weighted_precision=(l1*precision_neg+l2*precision_pos)/(l1+l2)\n",
        "    weighted_recall=(l1*recall_neg+l2*recall_pos)/(l1+l2)\n",
        "    weighted_f1_score=(l1*f1_score_neg+l2*f1_score_pos)/(l1+l2)\n",
        "    print(weighted_precision,weighted_recall,weighted_f1_score)"
      ],
      "execution_count": null,
      "outputs": [
        {
          "output_type": "stream",
          "text": [
            "0.4307692307692308 0.4444444444444444 0.4155844155844156\n"
          ],
          "name": "stdout"
        }
      ]
    },
    {
      "cell_type": "code",
      "metadata": {
        "id": "-168KmX4IIAH",
        "outputId": "2c1ef180-4d41-44f2-895b-019217518901"
      },
      "source": [
        "x = pd.Series([1,2,3,4,5])\n",
        "y = pd.Series([12,3,4,5,6,7])\n",
        "z = x-y\n",
        "z.values"
      ],
      "execution_count": null,
      "outputs": [
        {
          "output_type": "execute_result",
          "data": {
            "text/plain": [
              "array([-11.,  -1.,  -1.,  -1.,  -1.,  nan])"
            ]
          },
          "metadata": {
            "tags": []
          },
          "execution_count": 21
        }
      ]
    }
  ]
}